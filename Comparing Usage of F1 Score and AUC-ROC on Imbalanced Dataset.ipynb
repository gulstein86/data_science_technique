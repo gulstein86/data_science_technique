{
 "cells": [
  {
   "cell_type": "markdown",
   "metadata": {},
   "source": [
    "# Balanced"
   ]
  },
  {
   "cell_type": "code",
   "execution_count": 36,
   "metadata": {},
   "outputs": [
    {
     "data": {
      "image/png": "[encoded data removed]",
      "text/plain": [
       "<Figure size 432x288 with 3 Axes>"
      ]
     },
     "metadata": {
      "needs_background": "light"
     },
     "output_type": "display_data"
    },
    {
     "name": "stdout",
     "output_type": "stream",
     "text": [
      "Model-1 (F1): 0.4615384615384615\n",
      "Model-1 (ROC-AUC): 0.6582479999999999\n",
      "\n",
      "\n",
      "Model-2 (F1): 0.9473684210526316\n",
      "Model-2 (ROC-AUC): 0.9437800000000001\n"
     ]
    }
   ],
   "source": [
    "from sklearn import metrics\n",
    "import numpy as np\n",
    "import matplotlib.pyplot as plt\n",
    "\n",
    "# generate data\n",
    "y_true = np.concatenate((np.ones(500), np.zeros(500))) # generate 1000 datapoints, where 100 is positive and 900 negative\n",
    "a = np.random.uniform(0.5,1, 150) # 150 positive predictions\n",
    "b = np.random.uniform(0,0.5, 850) # 850 negative predictions\n",
    "y_pred1 = np.concatenate((a,b))\n",
    "\n",
    "a = np.random.uniform(0.5,1, 450) # 450 positive predictions\n",
    "b = np.random.uniform(0,0.5, 550) # 550 negative predictions\n",
    "y_pred2 = np.concatenate((a,b))\n",
    "\n",
    "# plot data\n",
    "plt.subplot(3, 1, 1)\n",
    "plt.hist(y_true)\n",
    "plt.title('Actual')\n",
    "plt.subplot(3, 1, 2)\n",
    "plt.hist(y_pred1)\n",
    "plt.title('Model 1')\n",
    "plt.subplot(3, 1, 3)\n",
    "plt.hist(y_pred2)\n",
    "plt.title('Model 2')\n",
    "plt.show()\n",
    "\n",
    "# print metrics\n",
    "print(\"Model-1 (F1):\",metrics.f1_score(y_true, y_pred1>0.5))\n",
    "print(\"Model-1 (ROC-AUC):\",metrics.roc_auc_score(y_true, y_pred1))\n",
    "print(\"\\n\")\n",
    "print(\"Model-2 (F1):\",metrics.f1_score(y_true, y_pred2>0.5))\n",
    "print(\"Model-2 (ROC-AUC):\",metrics.roc_auc_score(y_true, y_pred2))"
   ]
  },
  {
   "cell_type": "markdown",
   "metadata": {},
   "source": [
    "# Imbalanced, skewed negative"
   ]
  },
  {
   "cell_type": "code",
   "execution_count": 35,
   "metadata": {},
   "outputs": [
    {
     "data": {
      "image/png": "[encoded data removed]",
      "text/plain": [
       "<Figure size 432x288 with 3 Axes>"
      ]
     },
     "metadata": {
      "needs_background": "light"
     },
     "output_type": "display_data"
    },
    {
     "name": "stdout",
     "output_type": "stream",
     "text": [
      "Model-1 (F1): 0.09523809523809523\n",
      "Model-1 (ROC-AUC): 0.5104666666666667\n",
      "\n",
      "\n",
      "Model-2 (F1): 0.9473684210526316\n",
      "Model-2 (ROC-AUC): 0.9246666666666669\n"
     ]
    }
   ],
   "source": [
    "from sklearn import metrics\n",
    "import numpy as np\n",
    "import matplotlib.pyplot as plt\n",
    "\n",
    "# generate data\n",
    "y_true = np.concatenate((np.ones(100), np.zeros(900))) # generate 1000 datapoints, where 100 is positive and 900 negative\n",
    "a = np.random.uniform(0.5,1, 5) # 5 positive predictions\n",
    "b = np.random.uniform(0,0.5, 995) # 995 negative predictions\n",
    "y_pred1 = np.concatenate((a,b))\n",
    "\n",
    "a = np.random.uniform(0.5,1, 90) # 90 positive predictions\n",
    "b = np.random.uniform(0,0.5, 910) # 910 negative predictions\n",
    "y_pred2 = np.concatenate((a,b))\n",
    "\n",
    "# plot data\n",
    "plt.subplot(3, 1, 1)\n",
    "plt.hist(y_true)\n",
    "plt.title('Actual')\n",
    "plt.subplot(3, 1, 2)\n",
    "plt.hist(y_pred1)\n",
    "plt.title('Model 1')\n",
    "plt.subplot(3, 1, 3)\n",
    "plt.hist(y_pred2)\n",
    "plt.title('Model 2')\n",
    "plt.show()\n",
    "\n",
    "# print metrics\n",
    "print(\"Model-1 (F1):\",metrics.f1_score(y_true, y_pred1>0.5))\n",
    "print(\"Model-1 (ROC-AUC):\",metrics.roc_auc_score(y_true, y_pred1))\n",
    "print(\"\\n\")\n",
    "print(\"Model-2 (F1):\",metrics.f1_score(y_true, y_pred2>0.5))\n",
    "print(\"Model-2 (ROC-AUC):\",metrics.roc_auc_score(y_true, y_pred2))"
   ]
  },
  {
   "cell_type": "markdown",
   "metadata": {},
   "source": [
    "For imbalanced dataset (skewed negative), using F1 score makes more sense - as evident in Model-1 case above."
   ]
  },
  {
   "cell_type": "markdown",
   "metadata": {},
   "source": [
    "# Imbalanced, skewed positive"
   ]
  },
  {
   "cell_type": "code",
   "execution_count": 37,
   "metadata": {},
   "outputs": [
    {
     "data": {
      "image/png": "[encoded data removed]",
      "text/plain": [
       "<Figure size 432x288 with 3 Axes>"
      ]
     },
     "metadata": {
      "needs_background": "light"
     },
     "output_type": "display_data"
    },
    {
     "name": "stdout",
     "output_type": "stream",
     "text": [
      "Model-1 (F1): 0.949868073878628\n",
      "Model-1 (ROC-AUC): 0.5726666666666667\n",
      "\n",
      "\n",
      "Model-2 (F1): 0.994475138121547\n",
      "Model-2 (ROC-AUC): 0.947388888888889\n"
     ]
    }
   ],
   "source": [
    "# generate data\n",
    "y_true = np.concatenate((np.ones(900), np.zeros(100))) # generate 1000 datapoints, where 900 is positive and 100 negative\n",
    "\n",
    "a = np.random.uniform(0.5,1, 995) # 995 positive predictions\n",
    "b = np.random.uniform(0,0.5, 5) # 5 negative predictions\n",
    "y_pred1 = np.concatenate((a,b))\n",
    "\n",
    "a = np.random.uniform(0.5,1, 910) # 910 positive predictions\n",
    "b = np.random.uniform(0,0.5, 90) # 90 negative predictions\n",
    "y_pred2 = np.concatenate((a,b))\n",
    "\n",
    "# plot data\n",
    "plt.subplot(3, 1, 1)\n",
    "plt.hist(y_true)\n",
    "plt.title('Actual')\n",
    "plt.subplot(3, 1, 2)\n",
    "plt.hist(y_pred1)\n",
    "plt.title('Model 1')\n",
    "plt.subplot(3, 1, 3)\n",
    "plt.hist(y_pred2)\n",
    "plt.title('Model 2')\n",
    "plt.show()\n",
    "\n",
    "# print metrics\n",
    "print(\"Model-1 (F1):\",metrics.f1_score(y_true, y_pred1>0.5))\n",
    "print(\"Model-1 (ROC-AUC):\",metrics.roc_auc_score(y_true, y_pred1))\n",
    "print(\"\\n\")\n",
    "print(\"Model-2 (F1):\",metrics.f1_score(y_true, y_pred2>0.5))\n",
    "print(\"Model-2 (ROC-AUC):\",metrics.roc_auc_score(y_true, y_pred2))"
   ]
  },
  {
   "cell_type": "markdown",
   "metadata": {},
   "source": [
    "For imbalanced dataset (skewed positive), using F1 score seems totally misleading - as evident in Model-1 above. In this case, using ROC-AUC makes more sense."
   ]
  },
  {
   "cell_type": "code",
   "execution_count": null,
   "metadata": {},
   "outputs": [],
   "source": []
  }
 ],
 "metadata": {
  "kernelspec": {
   "display_name": "Python 3",
   "language": "python",
   "name": "python3"
  },
  "language_info": {
   "codemirror_mode": {
    "name": "ipython",
    "version": 3
   },
   "file_extension": ".py",
   "mimetype": "text/x-python",
   "name": "python",
   "nbconvert_exporter": "python",
   "pygments_lexer": "ipython3",
   "version": "3.7.3"
  }
 },
 "nbformat": 4,
 "nbformat_minor": 2
}
